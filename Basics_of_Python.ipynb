{
 "cells": [
  {
   "cell_type": "code",
   "execution_count": 9,
   "id": "59c5055d",
   "metadata": {},
   "outputs": [
    {
     "name": "stdout",
     "output_type": "stream",
     "text": [
      "Enter the number: 7\n",
      "7 is a prime number\n"
     ]
    }
   ],
   "source": [
    "# Exercise 1: Prime Numbers\n",
    "n=int(input(\"Enter the number: \"))\n",
    "\n",
    "for i in range(2,n):\n",
    "    if n%i==0:\n",
    "        print(n, \"is not a prime number\")\n",
    "        break\n",
    "else:\n",
    "    print(n, \"is a prime number\")"
   ]
  },
  {
   "cell_type": "code",
   "execution_count": 12,
   "id": "101d4c7a",
   "metadata": {},
   "outputs": [
    {
     "name": "stdout",
     "output_type": "stream",
     "text": [
      "What is the product of 9 and 1?\n",
      "56\n",
      "Incorrect. The correct answer is 9\n"
     ]
    }
   ],
   "source": [
    "# Exercise 2: Product of Random Numbers\n",
    "import random\n",
    "\n",
    "num1=random.randint(1,10)\n",
    "num2=random.randint(1,10)\n",
    "\n",
    "correct_product= num1 * num2\n",
    "\n",
    "user_product = int(input(f\"What is the product of {num1} and {num2}?\\n\"))\n",
    "\n",
    "\n",
    "if user_product == correct_product:\n",
    "    print(\"Correct! Answer\")\n",
    "else:\n",
    "    print(f\"Incorrect. The correct answer is {correct_product}\")\n",
    "\n"
   ]
  },
  {
   "cell_type": "code",
   "execution_count": 16,
   "id": "07fe4b19",
   "metadata": {},
   "outputs": [
    {
     "name": "stdout",
     "output_type": "stream",
     "text": [
      "Squares of even numbers within the range of 100 to 200:\n",
      "100 squared is 10000\n",
      "102 squared is 10404\n",
      "104 squared is 10816\n",
      "106 squared is 11236\n",
      "108 squared is 11664\n",
      "110 squared is 12100\n",
      "112 squared is 12544\n",
      "114 squared is 12996\n",
      "116 squared is 13456\n",
      "118 squared is 13924\n",
      "120 squared is 14400\n",
      "122 squared is 14884\n",
      "124 squared is 15376\n",
      "126 squared is 15876\n",
      "128 squared is 16384\n",
      "130 squared is 16900\n",
      "132 squared is 17424\n",
      "134 squared is 17956\n",
      "136 squared is 18496\n",
      "138 squared is 19044\n",
      "140 squared is 19600\n",
      "142 squared is 20164\n",
      "144 squared is 20736\n",
      "146 squared is 21316\n",
      "148 squared is 21904\n",
      "150 squared is 22500\n",
      "152 squared is 23104\n",
      "154 squared is 23716\n",
      "156 squared is 24336\n",
      "158 squared is 24964\n",
      "160 squared is 25600\n",
      "162 squared is 26244\n",
      "164 squared is 26896\n",
      "166 squared is 27556\n",
      "168 squared is 28224\n",
      "170 squared is 28900\n",
      "172 squared is 29584\n",
      "174 squared is 30276\n",
      "176 squared is 30976\n",
      "178 squared is 31684\n",
      "180 squared is 32400\n",
      "182 squared is 33124\n",
      "184 squared is 33856\n",
      "186 squared is 34596\n",
      "188 squared is 35344\n",
      "190 squared is 36100\n",
      "192 squared is 36864\n",
      "194 squared is 37636\n",
      "196 squared is 38416\n",
      "198 squared is 39204\n",
      "200 squared is 40000\n"
     ]
    }
   ],
   "source": [
    "#Exercise 3: Squares of Even Numbers\n",
    "def print_even_squares():\n",
    "    print(\"Squares of even numbers within the range of 100 to 200:\")\n",
    "    for number in range(100, 201):\n",
    "        if number % 2 == 0:\n",
    "            print(f\"{number} squared is {number ** 2}\")\n",
    "\n",
    "print_even_squares()"
   ]
  },
  {
   "cell_type": "code",
   "execution_count": 17,
   "id": "5f3b17e5",
   "metadata": {},
   "outputs": [
    {
     "name": "stdout",
     "output_type": "stream",
     "text": [
      "'This': 2\n",
      "'is': 1\n",
      "'a': 1\n",
      "'sample': 1\n",
      "'text': 2\n",
      "'will': 1\n",
      "'be': 1\n",
      "'used': 1\n",
      "'to': 1\n",
      "'demonstrate': 1\n",
      "'the': 1\n",
      "'word': 1\n",
      "'counter': 1\n"
     ]
    }
   ],
   "source": [
    "# Exercise 4: Word counter\n",
    "def count_words(input_text):\n",
    "    words = input_text.split()\n",
    "    word_count = {}\n",
    "    for word in words:\n",
    "        word = word.strip('.,?!')\n",
    "        if word in word_count:\n",
    "            word_count[word] += 1\n",
    "        else:\n",
    "            word_count[word] = 1\n",
    "    return word_count\n",
    "\n",
    "input_text = \"This is a sample text. This text will be used to demonstrate the word counter.\"\n",
    "output = count_words(input_text)\n",
    "\n",
    "for word, count in output.items():\n",
    "    print(f\"'{word}': {count}\")   "
   ]
  },
  {
   "cell_type": "code",
   "execution_count": 18,
   "id": "65a10019",
   "metadata": {},
   "outputs": [
    {
     "name": "stdout",
     "output_type": "stream",
     "text": [
      "Enter a string: racecar\n",
      "True\n"
     ]
    }
   ],
   "source": [
    "#Exercise 5: Check for Palindrome\n",
    "def is_palindrome(s):\n",
    "    s=s.lower()\n",
    "    return s==s[::-1]\n",
    "input_string = input(\"Enter a string: \")\n",
    "if is_palindrome(input_string):\n",
    "    print(\"True\")\n",
    "else:\n",
    "    print(\"False\")"
   ]
  },
  {
   "cell_type": "code",
   "execution_count": null,
   "id": "1631558b",
   "metadata": {},
   "outputs": [],
   "source": []
  },
  {
   "cell_type": "code",
   "execution_count": null,
   "id": "835982d2",
   "metadata": {},
   "outputs": [],
   "source": []
  }
 ],
 "metadata": {
  "kernelspec": {
   "display_name": "Python 3 (ipykernel)",
   "language": "python",
   "name": "python3"
  },
  "language_info": {
   "codemirror_mode": {
    "name": "ipython",
    "version": 3
   },
   "file_extension": ".py",
   "mimetype": "text/x-python",
   "name": "python",
   "nbconvert_exporter": "python",
   "pygments_lexer": "ipython3",
   "version": "3.11.7"
  }
 },
 "nbformat": 4,
 "nbformat_minor": 5
}
